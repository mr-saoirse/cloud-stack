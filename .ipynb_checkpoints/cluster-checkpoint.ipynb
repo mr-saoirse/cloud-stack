{
 "cells": [
  {
   "cell_type": "code",
   "execution_count": null,
   "id": "3f5aab69",
   "metadata": {},
   "outputs": [],
   "source": [
    "from warnings import filterwarnings\n",
    "import numpy as np\n",
    "import ray"
   ]
  },
  {
   "cell_type": "code",
   "execution_count": null,
   "id": "b8d56d64",
   "metadata": {},
   "outputs": [],
   "source": [
    "import ray\n",
    "\n",
    "@ray.remote\n",
    "def hello_world():\n",
    "    return \"hello world\"\n",
    "\n",
    "ray.init(address=\"ray://localhost:10001\")\n",
    "print(ray.get(hello_world.remote()))"
   ]
  },
  {
   "cell_type": "code",
   "execution_count": null,
   "id": "2d872dbe",
   "metadata": {},
   "outputs": [],
   "source": [
    " "
   ]
  },
  {
   "cell_type": "code",
   "execution_count": null,
   "id": "0c9e76e1",
   "metadata": {},
   "outputs": [],
   "source": []
  }
 ],
 "metadata": {
  "kernelspec": {
   "display_name": "Python 3 (ipykernel)",
   "language": "python",
   "name": "python3"
  },
  "language_info": {
   "codemirror_mode": {
    "name": "ipython",
    "version": 3
   },
   "file_extension": ".py",
   "mimetype": "text/x-python",
   "name": "python",
   "nbconvert_exporter": "python",
   "pygments_lexer": "ipython3",
   "version": "3.10.10"
  }
 },
 "nbformat": 4,
 "nbformat_minor": 5
}
