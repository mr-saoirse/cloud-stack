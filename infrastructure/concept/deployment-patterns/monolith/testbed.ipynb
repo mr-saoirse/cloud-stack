{
 "cells": [
  {
   "cell_type": "code",
   "execution_count": 1,
   "id": "aa64cf2a",
   "metadata": {},
   "outputs": [],
   "source": [
    "from monolith.modules.core.ops import load_op\n"
   ]
  },
  {
   "cell_type": "code",
   "execution_count": 2,
   "id": "ffbc1f47",
   "metadata": {},
   "outputs": [
    {
     "name": "stderr",
     "output_type": "stream",
     "text": [
      "\u001b[32m2023-09-24 18:22:07.155\u001b[0m | \u001b[34m\u001b[1mDEBUG   \u001b[0m | \u001b[36mmonolith.modules.core.ops\u001b[0m:\u001b[36mload_op\u001b[0m:\u001b[36m80\u001b[0m - \u001b[34m\u001b[1mLoading function generator from monolith.modules.test.order_status_b\u001b[0m\n"
     ]
    },
    {
     "data": {
      "text/plain": [
       "<function monolith.modules.test.order_status_b.controller.generator(messages: Optional[List[monolith.modules.test.order_status_b.schema.OrderStatus]], context=None)>"
      ]
     },
     "execution_count": 2,
     "metadata": {},
     "output_type": "execute_result"
    }
   ],
   "source": [
    "load_op('test.order_status_b', 'generator')"
   ]
  },
  {
   "cell_type": "code",
   "execution_count": null,
   "id": "30ce74a8",
   "metadata": {},
   "outputs": [],
   "source": [
    "import os\n",
    "os.environ['WORKFLOW_DIR'] = '/Users/sirsh/code/mr_saoirse/cloud-stack/infrastructure/concept/deployment-patterns/sample'\n",
    "from monolith.common import ArgoClient\n",
    "ArgoClient().submit_map_flow(name='test', id='test', event = {})\n"
   ]
  },
  {
   "cell_type": "code",
   "execution_count": null,
   "id": "35e1f14b",
   "metadata": {},
   "outputs": [],
   "source": []
  }
 ],
 "metadata": {
  "kernelspec": {
   "display_name": "Python 3 (ipykernel)",
   "language": "python",
   "name": "python3"
  },
  "language_info": {
   "codemirror_mode": {
    "name": "ipython",
    "version": 3
   },
   "file_extension": ".py",
   "mimetype": "text/x-python",
   "name": "python",
   "nbconvert_exporter": "python",
   "pygments_lexer": "ipython3",
   "version": "3.10.10"
  }
 },
 "nbformat": 4,
 "nbformat_minor": 5
}
