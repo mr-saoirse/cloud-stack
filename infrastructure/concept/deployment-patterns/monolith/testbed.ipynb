{
 "cells": [
  {
   "cell_type": "code",
   "execution_count": null,
   "id": "55f5b02e",
   "metadata": {},
   "outputs": [],
   "source": [
    "from monolith.modules.core.ops import inspect_modules\n",
    "\n",
    "list(inspect_modules())"
   ]
  },
  {
   "cell_type": "code",
   "execution_count": null,
   "id": "8e2fa09c",
   "metadata": {},
   "outputs": [],
   "source": [
    "import os\n",
    "os.environ['WORKFLOW_DIR'] = '/Users/sirsh/code/mr_saoirse/cloud-stack/infrastructure/concept/deployment-patterns/sample'\n",
    "from monolith.common import ArgoClient\n",
    "ArgoClient().submit_map_flow(name='test', id='test', event = {})\n"
   ]
  },
  {
   "cell_type": "code",
   "execution_count": null,
   "id": "06d90a2d",
   "metadata": {},
   "outputs": [],
   "source": []
  }
 ],
 "metadata": {
  "kernelspec": {
   "display_name": "Python 3 (ipykernel)",
   "language": "python",
   "name": "python3"
  },
  "language_info": {
   "codemirror_mode": {
    "name": "ipython",
    "version": 3
   },
   "file_extension": ".py",
   "mimetype": "text/x-python",
   "name": "python",
   "nbconvert_exporter": "python",
   "pygments_lexer": "ipython3",
   "version": "3.10.10"
  }
 },
 "nbformat": 4,
 "nbformat_minor": 5
}
