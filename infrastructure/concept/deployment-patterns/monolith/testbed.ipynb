{
 "cells": [
  {
   "cell_type": "code",
   "execution_count": 3,
   "id": "8424417d",
   "metadata": {},
   "outputs": [
    {
     "data": {
      "text/plain": [
       "'/Users/sirsh/code/mr_saoirse/cloud-stack/infrastructure/concept/deployment-patterns/monolith/monolith/__init__.py'"
      ]
     },
     "execution_count": 3,
     "metadata": {},
     "output_type": "execute_result"
    }
   ],
   "source": [
    "import monolith\n"
   ]
  },
  {
   "cell_type": "code",
   "execution_count": null,
   "id": "e3125ade",
   "metadata": {},
   "outputs": [],
   "source": [
    "from monolith.modules.test.order_status_b.controller import generator\n",
    "generator()"
   ]
  },
  {
   "cell_type": "code",
   "execution_count": null,
   "id": "9b95367c",
   "metadata": {},
   "outputs": [],
   "source": [
    "x = load_op('test.order_status_b', 'generator')\n",
    "x()"
   ]
  },
  {
   "cell_type": "code",
   "execution_count": null,
   "id": "ce0d17e2",
   "metadata": {},
   "outputs": [],
   "source": [
    "import os\n",
    "os.environ['WORKFLOW_DIR'] = '/Users/sirsh/code/mr_saoirse/cloud-stack/infrastructure/concept/deployment-patterns/sample'\n",
    "from monolith.common import ArgoClient\n",
    "ArgoClient().submit_map_flow(name='test', id='test', event = {})\n"
   ]
  },
  {
   "cell_type": "code",
   "execution_count": null,
   "id": "f75d3bed",
   "metadata": {},
   "outputs": [],
   "source": []
  }
 ],
 "metadata": {
  "kernelspec": {
   "display_name": "Python 3 (ipykernel)",
   "language": "python",
   "name": "python3"
  },
  "language_info": {
   "codemirror_mode": {
    "name": "ipython",
    "version": 3
   },
   "file_extension": ".py",
   "mimetype": "text/x-python",
   "name": "python",
   "nbconvert_exporter": "python",
   "pygments_lexer": "ipython3",
   "version": "3.10.10"
  }
 },
 "nbformat": 4,
 "nbformat_minor": 5
}
