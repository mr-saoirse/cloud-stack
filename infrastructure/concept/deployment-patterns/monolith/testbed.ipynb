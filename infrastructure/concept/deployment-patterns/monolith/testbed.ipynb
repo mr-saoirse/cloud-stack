{
 "cells": [
  {
   "cell_type": "code",
   "execution_count": 1,
   "id": "8424417d",
   "metadata": {},
   "outputs": [],
   "source": [
    "import monolith\n",
    "#check basic imports interactively"
   ]
  },
  {
   "cell_type": "code",
   "execution_count": null,
   "id": "e3125ade",
   "metadata": {},
   "outputs": [],
   "source": [
    "#test the decorator makes sense\n",
    "from monolith.modules.test.order_status_b.controller import generator\n",
    "generator()"
   ]
  },
  {
   "cell_type": "code",
   "execution_count": null,
   "id": "ce0d17e2",
   "metadata": {},
   "outputs": [],
   "source": [
    "#submit the workflow - path to workflow - we could infer this just as we did the kafka topics schema\n",
    "import os\n",
    "os.environ['WORKFLOW_DIR'] = '/Users/sirsh/code/mr_saoirse/cloud-stack/infrastructure/concept/deployment-patterns/sample'\n",
    "from monolith.common import ArgoClient\n",
    "ArgoClient().submit_map_flow(name='test', id='test', event = {})\n"
   ]
  }
 ],
 "metadata": {
  "kernelspec": {
   "display_name": "Python 3 (ipykernel)",
   "language": "python",
   "name": "python3"
  },
  "language_info": {
   "codemirror_mode": {
    "name": "ipython",
    "version": 3
   },
   "file_extension": ".py",
   "mimetype": "text/x-python",
   "name": "python",
   "nbconvert_exporter": "python",
   "pygments_lexer": "ipython3",
   "version": "3.10.10"
  }
 },
 "nbformat": 4,
 "nbformat_minor": 5
}
