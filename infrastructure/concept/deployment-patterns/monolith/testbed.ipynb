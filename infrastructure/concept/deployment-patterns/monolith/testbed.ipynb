{
 "cells": [
  {
   "cell_type": "code",
   "execution_count": 1,
   "id": "b34e3646",
   "metadata": {},
   "outputs": [
    {
     "name": "stderr",
     "output_type": "stream",
     "text": [
      "\u001b[32m2023-09-24 12:14:24.770\u001b[0m | \u001b[34m\u001b[1mDEBUG   \u001b[0m | \u001b[36mmonolith.modules.core.ops\u001b[0m:\u001b[36minspect_modules\u001b[0m:\u001b[36m89\u001b[0m - \u001b[34m\u001b[1mmonolith.modules.core.api\u001b[0m\n",
      "\u001b[32m2023-09-24 12:14:24.770\u001b[0m | \u001b[34m\u001b[1mDEBUG   \u001b[0m | \u001b[36mmonolith.modules.core.ops\u001b[0m:\u001b[36minspect_modules\u001b[0m:\u001b[36m89\u001b[0m - \u001b[34m\u001b[1mmonolith.modules.core.ops\u001b[0m\n",
      "\u001b[32m2023-09-24 12:14:24.772\u001b[0m | \u001b[34m\u001b[1mDEBUG   \u001b[0m | \u001b[36mmonolith.modules.core.ops\u001b[0m:\u001b[36minspect_modules\u001b[0m:\u001b[36m89\u001b[0m - \u001b[34m\u001b[1mmonolith.modules.core.scheduler\u001b[0m\n",
      "\u001b[32m2023-09-24 12:14:24.855\u001b[0m | \u001b[34m\u001b[1mDEBUG   \u001b[0m | \u001b[36mmonolith.modules.core.ops\u001b[0m:\u001b[36minspect_modules\u001b[0m:\u001b[36m89\u001b[0m - \u001b[34m\u001b[1mmonolith.modules.test.order_status.controller\u001b[0m\n",
      "\u001b[32m2023-09-24 12:14:24.855\u001b[0m | \u001b[34m\u001b[1mDEBUG   \u001b[0m | \u001b[36mmonolith.modules.core.ops\u001b[0m:\u001b[36minspect_modules\u001b[0m:\u001b[36m89\u001b[0m - \u001b[34m\u001b[1mmonolith.modules.test.order_status.schema\u001b[0m\n",
      "\u001b[32m2023-09-24 12:14:24.931\u001b[0m | \u001b[34m\u001b[1mDEBUG   \u001b[0m | \u001b[36mmonolith.modules.core.ops\u001b[0m:\u001b[36minspect_modules\u001b[0m:\u001b[36m89\u001b[0m - \u001b[34m\u001b[1mmonolith.modules.test.order_status_b.controller\u001b[0m\n",
      "\u001b[32m2023-09-24 12:14:24.931\u001b[0m | \u001b[34m\u001b[1mDEBUG   \u001b[0m | \u001b[36mmonolith.modules.core.ops\u001b[0m:\u001b[36minspect_modules\u001b[0m:\u001b[36m89\u001b[0m - \u001b[34m\u001b[1mmonolith.modules.test.order_status_b.schema\u001b[0m\n"
     ]
    },
    {
     "data": {
      "text/plain": [
       "[CallableModule(name='handler.<function handler at 0x114d54f70>', namespace='test.order_status', fullname='test.order_status.controller', interval_hour=None, interval_minute=None, interval_day=None, options={}),\n",
       " CallableModule(name='generator.<function generator at 0x1152ca440>', namespace='test.order_status', fullname='test.order_status_b.controller', interval_hour=None, interval_minute=None, interval_day=None, options={'memory': '1Gi', 'sem_var': None, 'cron': None, 'interval_minutes': '*/5', 'interval_hours': None, 'namespace': 'test.order_status'}),\n",
       " CallableModule(name='handler.<function handler at 0x1152ca3b0>', namespace='test.order_status', fullname='test.order_status_b.controller', interval_hour=None, interval_minute=None, interval_day=None, options={'memory': '2Gi', 'sem_var': None, 'cron': None, 'interval_minutes': '*/5', 'interval_hours': None, 'namespace': 'test.order_status'})]"
      ]
     },
     "execution_count": 1,
     "metadata": {},
     "output_type": "execute_result"
    }
   ],
   "source": [
    "from monolith.modules.core.ops import inspect_modules\n",
    "\n",
    "list(inspect_modules())"
   ]
  },
  {
   "cell_type": "code",
   "execution_count": 3,
   "id": "03b13863",
   "metadata": {},
   "outputs": [
    {
     "name": "stderr",
     "output_type": "stream",
     "text": [
      "\u001b[32m2023-09-24 13:53:52.941\u001b[0m | \u001b[34m\u001b[1mDEBUG   \u001b[0m | \u001b[36mmonolith.common.ArgoClient\u001b[0m:\u001b[36msubmit_map_flow\u001b[0m:\u001b[36m50\u001b[0m - \u001b[34m\u001b[1msubmitting test\u001b[0m\n"
     ]
    },
    {
     "data": {
      "text/plain": [
       "{'metadata': {'creationTimestamp': '2023-09-24T17:53:53Z',\n",
       "              'generation': 1,\n",
       "              'labels': {'workflows.argoproj.io/creator': 'system-serviceaccount-argo-argo-server'},\n",
       "              'managedFields': [{'apiVersion': 'argoproj.io/v1alpha1',\n",
       "                                 'fieldsType': 'FieldsV1',\n",
       "                                 'fieldsV1': {'f:metadata': {'f:labels': {'.': {},\n",
       "                                                                          'f:workflows.argoproj.io/creator': {}}},\n",
       "                                              'f:spec': {},\n",
       "                                              'f:status': {}},\n",
       "                                 'manager': 'argo',\n",
       "                                 'operation': 'Update',\n",
       "                                 'time': '2023-09-24T17:53:53Z'}],\n",
       "              'name': 'test',\n",
       "              'namespace': 'argo',\n",
       "              'resourceVersion': '719435637',\n",
       "              'uid': '95a3498e-644b-4d86-a36c-5367fd645620'},\n",
       " 'spec': {'arguments': {'parameters': [{'name': 'event', 'value': '{}'},\n",
       "                                       {'name': 'op', 'value': 'false'},\n",
       "                                       {'name': 'generator', 'value': 'true'},\n",
       "                                       {'name': 'reducer', 'value': 'false'},\n",
       "                                       {'name': 'name', 'value': 'test'}]},\n",
       "          'entrypoint': 'dag',\n",
       "          'onExit': 'exit-handler',\n",
       "          'templates': [{'inputs': {'parameters': [{'name': 'event'}]},\n",
       "                         'metadata': {},\n",
       "                         'name': 'dag',\n",
       "                         'outputs': {},\n",
       "                         'steps': [[{'arguments': {'parameters': [{'name': 'event',\n",
       "                                                                   'value': '{{workflow.parameters.event}}'}]},\n",
       "                                     'name': 'simple',\n",
       "                                     'template': 'res-data',\n",
       "                                     'when': '{{workflow.parameters.generator}} '\n",
       "                                             '== false'}],\n",
       "                                   [{'arguments': {'parameters': [{'name': 'event',\n",
       "                                                                   'value': '{{workflow.parameters.event}}'},\n",
       "                                                                  {'name': 'generate',\n",
       "                                                                   'value': 'reduce'}]},\n",
       "                                     'name': 'generate',\n",
       "                                     'template': 'res-data',\n",
       "                                     'when': '{{workflow.parameters.generator}} '\n",
       "                                             '!= false'}],\n",
       "                                   [{'arguments': {'parameters': [{'name': 'event',\n",
       "                                                                   'value': '{{item}}'}]},\n",
       "                                     'name': 'map',\n",
       "                                     'template': 'res-data',\n",
       "                                     'when': '{{workflow.parameters.generator}} '\n",
       "                                             '!= false',\n",
       "                                     'withParam': '{{steps.generate.outputs.parameters.out}}'}],\n",
       "                                   [{'arguments': {'parameters': [{'name': 'event',\n",
       "                                                                   'value': '{{workflow.parameters.event}}'},\n",
       "                                                                  {'name': 'op',\n",
       "                                                                   'value': 'reduce'}]},\n",
       "                                     'name': 'reduce',\n",
       "                                     'template': 'res-data',\n",
       "                                     'when': '{{workflow.parameters.reducer}} '\n",
       "                                             '!= false'}]]},\n",
       "                        {'inputs': {},\n",
       "                         'metadata': {},\n",
       "                         'name': 'exit-handler',\n",
       "                         'outputs': {},\n",
       "                         'steps': [[{'arguments': {'parameters': [{'name': 'event',\n",
       "                                                                   'value': '{{workflow.parameters.event}}'},\n",
       "                                                                  {'name': 'op',\n",
       "                                                                   'value': 'on_failure'}]},\n",
       "                                     'name': 'failure',\n",
       "                                     'template': 'res-data',\n",
       "                                     'when': '{{workflow.status}} != '\n",
       "                                             'Succeeded'}],\n",
       "                                   [{'arguments': {'parameters': [{'name': 'event',\n",
       "                                                                   'value': '{{workflow.parameters.event}}'},\n",
       "                                                                  {'name': 'op',\n",
       "                                                                   'value': 'on_success'}]},\n",
       "                                     'name': 'success',\n",
       "                                     'template': 'res-data',\n",
       "                                     'when': '{{workflow.status}} == '\n",
       "                                             'Succeeded'}]]},\n",
       "                        {'container': {'command': ['python',\n",
       "                                                   '/app/cli.py',\n",
       "                                                   'run',\n",
       "                                                   '-t',\n",
       "                                                   '{{workflow.parameters.name}}',\n",
       "                                                   '-v',\n",
       "                                                   '{{inputs.parameters.event}}',\n",
       "                                                   '-m',\n",
       "                                                   '{{inputs.parameters.op}}'],\n",
       "                                       'envFrom': [{'configMapRef': {'name': 'res-data-env'}}],\n",
       "                                       'image': '286292902993.dkr.ecr.us-east-1.amazonaws.com/res-data:test-kafka',\n",
       "                                       'imagePullPolicy': 'Always',\n",
       "                                       'name': '',\n",
       "                                       'resources': {}},\n",
       "                         'inputs': {'parameters': [{'name': 'event'},\n",
       "                                                   {'default': 'handler',\n",
       "                                                    'name': 'op'}]},\n",
       "                         'metadata': {},\n",
       "                         'name': 'res-data',\n",
       "                         'outputs': {'parameters': [{'default': '[{}]',\n",
       "                                                     'name': 'out',\n",
       "                                                     'valueFrom': {'path': '/tmp/out'}}]}}],\n",
       "          'ttlStrategy': {'secondsAfterCompletion': 60,\n",
       "                          'secondsAfterFailure': 720,\n",
       "                          'secondsAfterSuccess': 60}},\n",
       " 'status': {'finishedAt': None, 'startedAt': None}}"
      ]
     },
     "execution_count": 3,
     "metadata": {},
     "output_type": "execute_result"
    }
   ],
   "source": [
    "import os\n",
    "os.environ['WORKFLOW_DIR'] = '/Users/sirsh/code/mr_saoirse/cloud-stack/infrastructure/concept/deployment-patterns/sample'\n",
    "from monolith.common import ArgoClient\n",
    "ArgoClient().submit_map_flow(name='test', id='test', event = {})\n"
   ]
  },
  {
   "cell_type": "code",
   "execution_count": null,
   "id": "f8c4b33f",
   "metadata": {},
   "outputs": [],
   "source": []
  }
 ],
 "metadata": {
  "kernelspec": {
   "display_name": "Python 3 (ipykernel)",
   "language": "python",
   "name": "python3"
  },
  "language_info": {
   "codemirror_mode": {
    "name": "ipython",
    "version": 3
   },
   "file_extension": ".py",
   "mimetype": "text/x-python",
   "name": "python",
   "nbconvert_exporter": "python",
   "pygments_lexer": "ipython3",
   "version": "3.10.10"
  }
 },
 "nbformat": 4,
 "nbformat_minor": 5
}
